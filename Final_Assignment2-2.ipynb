{
 "cells": [
  {
   "cell_type": "markdown",
   "metadata": {},
   "source": [
    "# Learning Goals\n",
    "\n",
    "In Assignment 1, we studied how information is represented by a single spiking neuron. In this assignment, you will learn how to construct networks of spiking neurons for a given cognitive task, how to propagate information through a network, and understanding the intuition behind network design choices. \n",
    "\n",
    "Let's first import all the libraries required for this assignment"
   ]
  },
  {
   "cell_type": "code",
   "execution_count": 1,
   "metadata": {},
   "outputs": [],
   "source": [
    "import math\n",
    "import numpy as np\n",
    "import matplotlib.pyplot as plt\n",
    "import pickle"
   ]
  },
  {
   "cell_type": "markdown",
   "metadata": {},
   "source": [
    "# Question 1: From single neuron to network of neurons\n",
    "## 1a.\n",
    "What computational advantages do networks of neurons offer when compared against information processing by a single neuron? In other words, why do we need networks of neurons? \n",
    "\n"
   ]
  },
  {
   "cell_type": "markdown",
   "metadata": {},
   "source": [
    "## Answer 1a.\n",
    "We know that a single neuron is represented as the HH model/ LIF model that we lerant earlier. A single neuron recives spikes from up to 10,000 presynaptic neurons and send spikes upto 10,000 postsynaptic neurons.Although we can appreciate this fact biologically, mathemattically it gets very complicated to represent a single neuron. The combinatorial possiblities of above gives rise to complex network structure. Hebrew University of Heursalem did an experiment to find the compexity of single neuron and they found that to a represent a biolgical single neuron it requires 6-8 interconnnected network in the hidden layer of the neuron model. This is for that fact that the neurons recieve time dependent input. They have a rich temporal structure. If the stationary activity of  a neuron is considered then the knowledge about a single neuron is sufficient.\n",
    "    Biologically, neurons do not work individually. They are embedded in networks of neuron with similar properties. they are grouped and classified as homogenoeous or weak heterogenous. Mathematically , we consider the connectivity as all-all or random. So here to calaculate the input current, we consider population activity of connected neurons(number of spikes fired in short interval of time averged over the population). So this consideration helps in computing during the time dependent dynamic situation. We also lerant that the networks of neuron gets coactivated to represnt an entity. With higher the coactivation, higher the connection. This helps in getting the entity memorized and helps in need of recall. Computationally, The network of neurons are simplified to rate models which makes the compuation easier compared to single neuron(dynamically)"
   ]
  },
  {
   "cell_type": "markdown",
   "metadata": {},
   "source": [
    "## 1b. \n",
    "Describe the algorithm for the information flow through a network of spiking leaky-integrate-and-fire (LIF) neurons. Specifically, trace out the steps required to compute network output from a given (continuous-valued) inputs. The algorithm should describe how continuous-valued inputs are fed to the SNN input layer, how the layer activations are computed, and how the output layer activity is decoded. Also, provide a diagrammatic overview of the algorithm to aid your explanation. You are free to assume any network size, and input and output dimensions. "
   ]
  },
  {
   "attachments": {
    "96a5b307-ddc5-4dec-a5ab-2a90422398c5.png": {
     "image/png": "[encoded data removed]"
    }
   },
   "cell_type": "markdown",
   "metadata": {},
   "source": [
    "## Answer 1b.\n",
    "\n",
    "We have an SNN model constituted of different layers. \n",
    "The first layer is the input layer. Consider an image of size 28*28. It contains 784 pixels. So we have 784 neurons in the first layer mapped to the intensity values of each pixel. \n",
    "The output layer is mapped to the number of classes(the final result)\n",
    "Hidden layer which is responsible for the proper output from the given input.\n",
    "\n",
    "1. InputLayer:\n",
    "The input layer is fed with the input. In this case we have a continous valued input. We conver the continuous valued input to spikes by rate encoding. So this are treated as input spikes nad are fed to the input layer of the neuron.\n",
    "\n",
    "2. Hidden Layer:\n",
    "It consists of neurons which are parameterized by some weights.\n",
    "\n",
    "Now we have two important steps to consider:\n",
    "1. Fix the class of neurons in hidden layer with wieghts w.\n",
    "    As said here each neuron is parmaterized with weights. So consider each neuron has weight w and it ends up with a linear function:\n",
    "    X1=w1x1+w2x2.\n",
    "    where w1, w2 are the weights for the neuron x1 and x2.\n",
    "But we know that the neuralnetwork must have a non-linear function and hence we have a sigmoidal/Relu function.:\n",
    "    X1=sigmoidal(w1x1+w2x2)\n",
    "The number of hidden layer depends on the complexity of the input.\n",
    "2. Learn the parameter with some algorithms\n",
    "So now consider given an image and its label (X1,Y1)\n",
    "Training the network:\n",
    "Our goal here is to calculate the value of weights so that it minimises the loss. Where loss function coressponds to number of misclaculations.\n",
    "\n",
    "So we can do this using Gradient Desecnt / Back Propogation:\n",
    "1. Start with random weights w1, w2.\n",
    "2. Compute the predicted class for training example using the current weighst. From this we can find the current loss\n",
    "3. we now start modifying w1,w2 in the direction of decrease in loss\n",
    "\n",
    "Hence in general the SNN Neuron model looks like:\n",
    "1. Encoding: We convert the pixel values to spikes using rate encoding and feed it to the input layer \n",
    "2. Computing Hidden Layer spike: This is done by feed forward propogation.\n",
    "\n",
    "At every time step :\n",
    "we compute the current:I(t)=w1x1(t)+w2x2(t)\n",
    "Next we convert this values into volatge: V(t)=decay voltage at previous step+I(t)\n",
    "Convert this volatges to spikes back using thresholding\n",
    "We reset the voltage to 0\n",
    "\n",
    "3. Decoding and Predicting the class by comparing the output neurons firing range.\n",
    "\n",
    "So now usually a represntation of the neural network layer we consider a 28*28 image size or more.\n",
    "By this we will have 784 pixels and we consider each neuron for each pixel. For represnting easily I am considering only 3neurons.\n",
    "So below u can see the diagrmaic represnation of the neural layer where we give 3 inputs and have 2 outputs(classifications)\n",
    "\n",
    "\n",
    "![image.png](attachment:96a5b307-ddc5-4dec-a5ab-2a90422398c5.png)\n"
   ]
  },
  {
   "cell_type": "markdown",
   "metadata": {},
   "source": []
  },
  {
   "cell_type": "markdown",
   "metadata": {},
   "source": [
    "# Question 2: Elements of Constructing Feedforward Networks\n",
    "In this exercise, you will implement the two fundamental components of a feedforward spiking neural network: i) layers of neurons and ii) connections between those layers\n",
    "## 2a. \n",
    "As the first step towards creating an SNN, we will create a class that defines a layer of LIF neurons. The layer object creates a collection of LIF neurons and applies input current to it (also called psp_input for postsynaptic input) to produce the collective spiking output of the layer. \n",
    "\n",
    "Below is the class definition for a layer of LIFNeurons. Fill in the components to define the layer. "
   ]
  },
  {
   "cell_type": "code",
   "execution_count": 2,
   "metadata": {},
   "outputs": [],
   "source": [
    "class LIFNeurons:\n",
    "    \"\"\" Define Leaky Integrate-and-Fire Neuron Layer \"\"\"\n",
    "\n",
    "    def __init__(self, dimension, vdecay, vth):\n",
    "        \"\"\"\n",
    "        Args:\n",
    "            dimension (int): Number of LIF neurons in the layer\n",
    "            vdecay (float): voltage decay of LIF neurons\n",
    "            vth (float): voltage threshold of LIF neurons\n",
    "        \n",
    "        This function is complete. You do not need to do anything here.\n",
    "        \"\"\"\n",
    "        self.dimension = dimension\n",
    "        self.vdecay = vdecay\n",
    "        self.vth = vth\n",
    "\n",
    "        # Initialize LIF neuron states\n",
    "        self.volt = np.zeros(self.dimension)\n",
    "        self.spike = np.zeros(self.dimension)\n",
    "    \n",
    "    def __call__(self, psp_input):\n",
    "        \"\"\"\n",
    "        Args:\n",
    "            psp_input (ndarray): synaptic input current at a single timestep. The shape of this is same as the number of neurons in the layer. \n",
    "        Return:\n",
    "            self.spike: output spikes from the layer. The shape of this should be the same as the number of neurons in the layer. \n",
    "        \n",
    "        Write the expressions for updating the voltage and generating the spikes for the layer given psp_input at one timestep. \n",
    "        \"\"\"\n",
    "        \n",
    "        self.volt=self.vdecay * self.volt * (1-self.spike) + psp_input\n",
    "        self.spike = (self.volt > self.vth).astype(float)\n",
    "        \n",
    "        \n",
    "        return self.spike\n",
    "    "
   ]
  },
  {
   "cell_type": "markdown",
   "metadata": {},
   "source": [
    "To verify the correctness of your class implementation, create a layer of neurons using the class definition above, and pass through it random inputs. "
   ]
  },
  {
   "cell_type": "code",
   "execution_count": 3,
   "metadata": {},
   "outputs": [
    {
     "name": "stdout",
     "output_type": "stream",
     "text": [
      "[0 1 0 0 1]\n"
     ]
    },
    {
     "data": {
      "text/plain": [
       "array([0., 1., 0., 0., 1.])"
      ]
     },
     "execution_count": 3,
     "metadata": {},
     "output_type": "execute_result"
    }
   ],
   "source": [
    "#Create a layer of neurons using the class definition above. You can pick any parameter values for the neurons. \n",
    "layer1=LIFNeurons(5,0.5,0.5)\n",
    "\n",
    "#Create random input spikes with any probability and print them. Numpy random.choice function might be useful here. \n",
    "ip=[]\n",
    "ip=np.random.choice(2,5)\n",
    "\n",
    "print(ip)\n",
    "\n",
    "#Propagate the random input spikes through the layer and print the output\n",
    "layer1.__call__(ip)\n"
   ]
  },
  {
   "cell_type": "markdown",
   "metadata": {},
   "source": [
    "## 2b.\n",
    "Now, we will create a class the defines the connection between a presynaptic layer and a postsynaptic layer. To create the connection, we need the activity of the presynaptic layer (also called presynaptic layer activation) and the weight matrix connecting the presynaptic and postsynaptic neurons. The output of the class should be the current for the postsynaptic layer. \n",
    "\n",
    "Below is the class definition for Connections. Fill in the components to create the connections. "
   ]
  },
  {
   "cell_type": "code",
   "execution_count": 4,
   "metadata": {},
   "outputs": [],
   "source": [
    "class Connections:\n",
    "    \"\"\" Define connections between spiking neuron layers \"\"\"\n",
    "\n",
    "    def __init__(self, weights, pre_dimension, post_dimension):\n",
    "        \"\"\"\n",
    "        Args:\n",
    "            pre_dimension (int): number of neurons in the presynaptic layer\n",
    "            post_dimension (int): number of neurons in the postsynaptic layer\n",
    "            weights (ndarray): connection weights of shape post_dimension x pre_dimension\n",
    "\n",
    "        This function is complete. You do not need to do anything here.\n",
    "\n",
    "        \"\"\"\n",
    "        self.weights = weights\n",
    "        self.pre_dimension = pre_dimension\n",
    "        self.post_dimension = post_dimension\n",
    "    \n",
    "    def __call__(self, spike_input):\n",
    "        \"\"\"\n",
    "        Args:\n",
    "            spike_input (ndarray): spikes generated by the pre-synaptic neurons\n",
    "        Return:\n",
    "            psp: current for the post-synaptic neurons\n",
    "        \n",
    "        Write the operation for computing psp\n",
    "        \"\"\"\n",
    "        \n",
    "        #Compute psp given spike_input and self.weights\n",
    "        \n",
    "        psp = np.dot(self.weights, spike_input)\n",
    "       \n",
    "        return psp"
   ]
  },
  {
   "cell_type": "markdown",
   "metadata": {},
   "source": [
    "To verify the correctness of your class implementation, create a connection object and compute the postsynaptic current for random presynaptic activation inputs and random connection weights. You can pick arbitrary values for class arguments. "
   ]
  },
  {
   "cell_type": "code",
   "execution_count": 5,
   "metadata": {},
   "outputs": [
    {
     "name": "stdout",
     "output_type": "stream",
     "text": [
      "[10.67482905 14.1171555  12.3586495  11.8376479  14.54359953 12.18922166\n",
      " 12.33425523 11.96282582 12.79017497 11.40841676 13.51766371 12.07184298\n",
      " 12.48376932 13.01859204 12.24574236 10.13736403 11.72379357 14.48279093\n",
      " 11.57551171 14.9496754  13.38115617 13.71444671 11.44284486 12.97416513\n",
      " 13.54971208 11.8564119  13.8795992  12.69678558  9.26657385 12.7480534 ]\n",
      "(30,)\n"
     ]
    }
   ],
   "source": [
    "#Define the dimensions of the presynaptic layer in a variable\n",
    "\n",
    "presynapticdimension=50\n",
    "#Define the dimensions of the postsynaptic layer in a variable\n",
    "\n",
    "postsynapticdimension=30\n",
    "#Create random presynaptic inputs with any probability. Numpy random choice function might be useful here. \n",
    "\n",
    "presynapticinput=np.random.choice(2,50)\n",
    "#Create a random connection weight matrix. Numpy random rand function might be useful here. \n",
    "weightmatrix=np.random.rand(postsynapticdimension,presynapticdimension)\n",
    "\n",
    "#Initialize a connection object using the Connection class definition and pass the variables created above as arguments\n",
    "\n",
    "connection1=Connections(weightmatrix,presynapticdimension, postsynapticdimension)\n",
    "#Compute the current for the postsynaptic layer when the connection object is fed random presynaptic activation inputs\n",
    "result=connection1.__call__(presynapticinput)\n",
    "\n",
    "#Print the shape of the current\n",
    "print(result)\n",
    "print(np.shape(result))"
   ]
  },
  {
   "cell_type": "markdown",
   "metadata": {},
   "source": [
    "# Question 3: Constructing Feedforward SNN\n",
    "Now that you have implemented the basic elements of an SNN- layer and connection, you are all set to implement a fully functioning SNN. The SNN that you will implement here consists of an input layer, a hidden layer, and an output layer. \n",
    "\n",
    "Below is the class definition of an SNN. Your task is to create the layers and connections that form the network using the class definitions in Question 2. Then complete the function to propagate a given input through the network and decode network output. "
   ]
  },
  {
   "cell_type": "code",
   "execution_count": 8,
   "metadata": {},
   "outputs": [],
   "source": [
    "class SNN:\n",
    "    \"\"\" Define a Spiking Neural Network with One Hidden Layer \"\"\"\n",
    "\n",
    "    def __init__(self, input_2_hidden_weight, hidden_2_output_weight, \n",
    "                 input_dimension=784, hidden_dimension=256, output_dimension=10,\n",
    "                 vdecay=0.5, vth=0.5, snn_timestep=20):\n",
    "        \"\"\"\n",
    "        Args:\n",
    "            input_2_hidden_weight (ndarray): weights for connection between input and hidden layer. dimension should be hidden_dimension x input_dimension. \n",
    "            hidden_2_output_weight (ndarray): weights for connection between hidden and output layer. dimension should be output dimension x hidden dimension. \n",
    "            input_dimension (int): number of neurons in the input layer\n",
    "            hidden_dimension (int): number of neurons in the hidden layer\n",
    "            output_dimension (int): number of neurons in the output layer\n",
    "            vdecay (float): voltage decay of LIF neurons\n",
    "            vth (float): voltage threshold of LIF neurons\n",
    "            snn_timestep (int): number of timesteps for simulating the network (also called inference timesteps)\n",
    "        \"\"\"\n",
    "        self.snn_timestep = snn_timestep\n",
    "        \n",
    "        #Create the hidden layer\n",
    "        self.hiddenlayer=LIFNeurons(hidden_dimension,vdecay,vth)\n",
    "\n",
    "        \n",
    "        #Create the output layer\n",
    "        self.outputlayer=LIFNeurons(output_dimension,vdecay,vth)\n",
    "        \n",
    "        #Create the connection between input and hidden layer\n",
    "        \n",
    "        self.connectionhiddenandinput=Connections(input_2_hidden_weight,input_dimension, hidden_dimension)\n",
    "        \n",
    "        #Create the connection between hidden and output layer\n",
    "\n",
    "        \n",
    "        self.connectionhiddenandoutput=Connections(hidden_2_output_weight,hidden_dimension ,output_dimension)\n",
    "\n",
    "        self.out_dim = output_dimension\n",
    "    \n",
    "    def __call__(self, spike_encoding):\n",
    "        \"\"\"\n",
    "        Args:\n",
    "            spike_encoding (ndarray): spike encoding of input\n",
    "        Return:\n",
    "            output: decoded output from the network\n",
    "        \"\"\"\n",
    "        \n",
    "        #Initialize an array to store the decoded network output for all neurons in the output layer\n",
    "        spike_output = np.zeros(self.out_dim)\n",
    "        \n",
    "        #Loop through the simulation timesteps and process the input at each timestep tt\n",
    "        for tt in range(self.snn_timestep):\n",
    "            \n",
    "            #Propagate the input through the input to hidden layer and compute current for hidden layer\n",
    "            ip_hiddenlayer_current=self.connectionhiddenandinput(spike_encoding[tt])\n",
    "\n",
    "           \n",
    "            #Compute hidden layer spikes \n",
    "            hiddenlayer_spikes=self.hiddenlayer(ip_hiddenlayer_current)\n",
    "            #Propagate hidden layer inputs to output layer and compute current for output layer\n",
    "            op_hiddenlayer_current=self.connectionhiddenandoutput(hiddenlayer_spikes)\n",
    "            \n",
    "            #compute output layer spikes\n",
    "            output_spikes=self.outputlayer(op_hiddenlayer_current)\n",
    "            \n",
    "       \n",
    "\n",
    "\n",
    "            spike_output+=output_spikes\n",
    "\n",
    "           \n",
    "        return spike_output"
   ]
  },
  {
   "cell_type": "markdown",
   "metadata": {},
   "source": [
    "To verify the correctness of your class implementation, define the arguments to initialize the SNN. Then initialize the SNN and pass through it random inputs and compute network outputs. You can pick arbitrary values for class arguments. "
   ]
  },
  {
   "cell_type": "code",
   "execution_count": 9,
   "metadata": {},
   "outputs": [
    {
     "name": "stdout",
     "output_type": "stream",
     "text": [
      "(20, 784)\n",
      "[20. 20. 20. 20. 20. 20. 20. 20. 20. 20.]\n"
     ]
    }
   ],
   "source": [
    "#Define the dimensions of the input layer in a variable\n",
    "input_dimension=784\n",
    "\n",
    "#Define the dimensions of the hidden layer in a variable\n",
    "hidden_dimension=256\n",
    "\n",
    "#Define the dimensions of the output layer in a variable\n",
    "\n",
    "output_dimension=10\n",
    "#Define vdecay in a variable\n",
    "vdecay=0.5\n",
    "\n",
    "#Define vth in a variable\n",
    "\n",
    "vth=0.5\n",
    "#Define snn_timesteps in a variable\n",
    "snn_timestep=20\n",
    "\n",
    "#Create random input to hidden layer weights. Numpy random rand function might be useful here\n",
    "input_2_hidden_weight=np.random.rand(hidden_dimension,input_dimension)\n",
    "\n",
    "#Create random hidden to output layer weights. Numpy random rand function might be useful here\n",
    "hidden_2_output_weight=np.random.rand(output_dimension,hidden_dimension)\n",
    "\n",
    "#Create random spike inputs to the network. Numpy random choice function might be useful here\n",
    "spike_encoding=[]\n",
    "spike_encoding=np.random.choice(2,size=(snn_timestep,input_dimension))\n",
    "#Print the inputs\n",
    "print(spike_encoding.shape)\n",
    "\n",
    "#Create an SNN object using the class definition and variables defined above\n",
    "snn3=SNN(input_2_hidden_weight,hidden_2_output_weight,input_dimension,hidden_dimension,output_dimension,vdecay,vth,snn_timestep)\n",
    "\n",
    "#Pass the random spike inputs through the SNN and print the output of the SNN\n",
    "print(snn3(spike_encoding))\n",
    "\n"
   ]
  },
  {
   "cell_type": "markdown",
   "metadata": {},
   "source": [
    "# Question 4: SNN for Classification of Digits\n",
    "So far we have learnt how to construct SNNs for random inputs. In this exercise, you will use your implementation of SNNs to classify real-world data, taking the dataset of handwritten digits as an example. The dataset is provided as numpy arrays in the folder \"data\". Each sample in the MNIST dataset is a 28x28 image of a digit and a label (between 0 and 9) of that image. We will be dealing with batches, which means that we will read a fixed number of samples from the dataset (also called the batch size).\n",
    "\n",
    "## 4a. \n",
    "First, we need to write two helper functions- to read the data from the saved data files, and to convert an image into spikes. The function to read the data is already written for you. You need to complete the function for encoding the data into spikes. "
   ]
  },
  {
   "cell_type": "code",
   "execution_count": 10,
   "metadata": {},
   "outputs": [],
   "source": [
    "def read_numpy_mnist_data(save_root, num_sample):\n",
    "    \"\"\"\n",
    "    Read saved numpy MNIST data\n",
    "    Args:\n",
    "        save_root (str): path to the folder where the MNIST data is saved\n",
    "        num_sample (int): number of samples to read\n",
    "    Returns:\n",
    "        image_list: list of MNIST image\n",
    "        label_list: list of corresponding labels\n",
    "    \n",
    "    This function is complete. You do not need to do anything here.\n",
    "    \"\"\"\n",
    "    image_list = np.zeros((num_sample, 28, 28))\n",
    "    label_list = []\n",
    "    for ii in range(num_sample):\n",
    "        image_label = pickle.load(open(save_root + '/' + str(ii) + '.p', 'rb'))\n",
    "        image_list[ii] = image_label[0]\n",
    "        label_list.append(image_label[1])\n",
    "\n",
    "    return image_list, label_list\n",
    "\n",
    "def img_2_event_img(image, snn_timestep):\n",
    "    \"\"\"\n",
    "    Transform image to spikes, also called an event image\n",
    "    Args:\n",
    "        image (ndarray): image of shape batch_size x 28 x 28\n",
    "        snn_timestep (int): spike timestep\n",
    "    Returns:\n",
    "        event_image: event image- spike encoding of the image\n",
    "        \n",
    "    Complete the expression for converting the image to spikes (event image)\n",
    "    \"\"\"\n",
    "    \n",
    "    #Reshape the image. Do not touch this code\n",
    "    batch_size = image.shape[0]\n",
    "    image_size = image.shape[2]\n",
    "    image_size = image.shape[1]\n",
    "    image = image.reshape(batch_size, image_size, image_size, 1)\n",
    "    \n",
    "    #Generate a random image of the shape batch_size x image_size x image_size x snn_timestep. Numpy random rand function will be useful here. \n",
    "    input_image=np.random.rand(batch_size,image_size,image_size,snn_timestep)\n",
    "    \n",
    "    event_image = (image > input_image).astype(float)\n",
    "    \n",
    "    #Generate the event image\n",
    "#     for i in range(batch_size):\n",
    "#         for j in range(image_size):\n",
    "#             for k in range(image_size):\n",
    "#                 for l in range(snn_timestep):\n",
    "#                     if input_image[i][j][k][l]<image[i][j][k][0]:\n",
    "#                         input_image[i][j][k][l]=1                     \n",
    "\n",
    "    return event_image"
   ]
  },
  {
   "cell_type": "markdown",
   "metadata": {},
   "source": [
    "To verify the correctness of your class implementation, load a sample digit from the saved file and convert it into an event image. Then print the shape of the event image. "
   ]
  },
  {
   "cell_type": "code",
   "execution_count": 11,
   "metadata": {},
   "outputs": [
    {
     "name": "stdout",
     "output_type": "stream",
     "text": [
      "(1000, 28, 28)\n",
      "(1000,)\n",
      "(1000, 28, 28, 20)\n"
     ]
    },
    {
     "data": {
      "image/png": "[encoded data removed]",
      "text/plain": [
       "<Figure size 432x288 with 1 Axes>"
      ]
     },
     "metadata": {
      "needs_background": "light"
     },
     "output_type": "display_data"
    }
   ],
   "source": [
    "#Load 1000 samples from the MNIST dataset using the read function defined above\n",
    "image_list,label_list=read_numpy_mnist_data('/common/home/sd1322/525/bic-course-assignments-master/Assignment2/data/mnist_test',1000)\n",
    "\n",
    "#Print the shape of the data\n",
    "print(np.shape(image_list))\n",
    "print(np.shape(label_list))\n",
    "#Convert the images to event images\n",
    "c = np.zeros((28,28))\n",
    "event_image=img_2_event_img(image_list,20)\n",
    "for x in range(28):\n",
    "    for y in range(28):\n",
    "        c[x][y] = event_image[0][x][y][19]\n",
    "plt.imshow(c)\n",
    "#Print the shape of the event image\n",
    "print(np.shape(event_image))\n"
   ]
  },
  {
   "cell_type": "markdown",
   "metadata": {},
   "source": [
    "## 4b. \n",
    "Next, we need another helper function to compute the classification accuracy of the network. The classification accuracy is defined as the percentage of the samples that the network classifies correctly. To compute the classification accuracy, you need to:\n",
    "\n",
    "- Propagate each input through the network and obtain the network output.\n",
    "- Based on the network output, the class of the image is the one for which the output neuron has maximum value. Let's call this predicted class. \n",
    "- Compare the predicted class against the true class. \n",
    "- Compute accuracy as the percentage of correct predictions. \n",
    "\n",
    "Below is the function for computing the test accuracy. The function takes in as arguments the SNN, directory in which the MNIST data is saved, and the number of samples to take from the MNIST dataset. Your task is to use the helper functions created above to load the data, convert into event images, and then compute network prediction and accuracies. "
   ]
  },
  {
   "cell_type": "code",
   "execution_count": 12,
   "metadata": {},
   "outputs": [],
   "source": [
    "def test_snn_with_mnist(network, data_save_dir, data_sample_num):\n",
    "    \"\"\"\n",
    "    Test SNN with MNIST test data\n",
    "    Args:\n",
    "        network (SNN): defined SNN network\n",
    "        data_save_dir (str): directory for the test data\n",
    "        data_sample_num (int): number of test data examples\n",
    "    \"\"\"\n",
    "    #Read image and labels using the read function\n",
    "    test_image_list, test_label_list = read_numpy_mnist_data(data_save_dir, data_sample_num)\n",
    "    \n",
    "    #Convert the images to event images\n",
    "    imagefinal=img_2_event_img(test_image_list,network.snn_timestep)\n",
    "    \n",
    "    #Initialize number of correct predictions to 0\n",
    "    correct_prediction = 0\n",
    "    \n",
    "    #Loop through the test images\n",
    "    for ii in range(data_sample_num):\n",
    "        #Compute network output for each image. You might have to reshape the image using Numpy reshape function so that its appropriate for the SNN\n",
    "        opimage=imagefinal[ii]\n",
    "        \n",
    "        #print(opimage.shape)\n",
    "        \n",
    "        predicted=network(np.transpose(opimage.reshape(784,20)))\n",
    "        #Determine the class of the image from the network output. Numpy argmax function might be useful here\n",
    "        predictedclass=np.argmax(predicted)\n",
    "        \n",
    "        #Compare the predicted class against true class and update correct_prediction counter\n",
    "        if predictedclass==test_label_list[ii]:\n",
    "            correct_prediction+=1\n",
    "\n",
    "        \n",
    "    #Compute test accuracy\n",
    "    \n",
    "    test_accuracy = correct_prediction/len(test_label_list)\n",
    "    \n",
    "    return test_accuracy"
   ]
  },
  {
   "cell_type": "markdown",
   "metadata": {},
   "source": [
    "# Question 5: Tuning Membrane Properties for Correct Classification \n",
    "Great! We have everything that we need to measure the performance of the SNN for classification of MNIST digits. For this, we first need to create the SNN using the class definition we wrote in Q.3. Then we need to call the test function that we wrote in Q.4b. However, note that the SNN needs the connection weights between the layers as inputs. These weights are typically obtained as a result of \"training\" the network for a given task (such as MNIST classification). However, since training the network isn't a part of this assignment, we provide to you already trained weights. \n",
    "\n",
    "## 5a. \n",
    "Your task in this exercise is to initialize an SNN with vdecay=1.0 and vth=0.5. Test the SNN on MNIST dataset and obtain the classification accuracy.  "
   ]
  },
  {
   "cell_type": "code",
   "execution_count": 13,
   "metadata": {},
   "outputs": [
    {
     "name": "stdout",
     "output_type": "stream",
     "text": [
      "0.239\n"
     ]
    }
   ],
   "source": [
    "#Load the weights. Do not touch this code\n",
    "snn_param_dir = 'save_models/snn_bptt_mnist_train.p'\n",
    "snn_param_dict = pickle.load(open(snn_param_dir, 'rb'))\n",
    "input_2_hidden_weight = snn_param_dict['weight1']\n",
    "hidden_2_output_weight = snn_param_dict['weight2']\n",
    "\n",
    "#Define a variable for vdecay\n",
    "vdecay=1\n",
    "\n",
    "#Define a variable for vth\n",
    "vth=0.5\n",
    "\n",
    "#Create the SNN using the class definition in Q3 and the variables defined above\n",
    "snn4=SNN(input_2_hidden_weight,hidden_2_output_weight,784,256,10,vdecay,vth,20)\n",
    "\n",
    "#Compute test accuracy for the SNN on 1000 examples from MNIST dataset and print it\n",
    "finalaccuracy=test_snn_with_mnist(snn4,'data/mnist_test', 1000)\n",
    "print(finalaccuracy)"
   ]
  },
  {
   "cell_type": "markdown",
   "metadata": {},
   "source": [
    "What could be a possible reason for the poor accuracy?"
   ]
  },
  {
   "cell_type": "markdown",
   "metadata": {},
   "source": [
    "## Answer 5a. \n",
    "The values of vdecay and Vth may be the reason for poor accuracy. "
   ]
  },
  {
   "cell_type": "markdown",
   "metadata": {},
   "source": [
    "## 5b. \n",
    "Can you tune the membrane properties (vdecay and vth) to obtain higher classification accuracies?"
   ]
  },
  {
   "cell_type": "code",
   "execution_count": 14,
   "metadata": {},
   "outputs": [
    {
     "name": "stdout",
     "output_type": "stream",
     "text": [
      "0.976\n"
     ]
    }
   ],
   "source": [
    "#Load the weights. Do not touch this code\n",
    "snn_param_dir = 'save_models/snn_bptt_mnist_train.p'\n",
    "snn_param_dict = pickle.load(open(snn_param_dir, 'rb'))\n",
    "input_2_hidden_weight = snn_param_dict['weight1']\n",
    "hidden_2_output_weight = snn_param_dict['weight2']\n",
    "\n",
    "#Define a variable for vdecay\n",
    "vdecay=0.5\n",
    "\n",
    "#Define a variable for vth\n",
    "vth=0.5\n",
    "\n",
    "#Create the SNN using the class definition in Q3 and the variables defined above\n",
    "snn5=SNN(input_2_hidden_weight,hidden_2_output_weight,784,256,10,vdecay,vth,20)\n",
    "\n",
    "#Compute test accuracy for the SNN on 1000 examples from MNIST dataset and print it\n",
    "finalaccuracy1=test_snn_with_mnist(snn4,'data/mnist_test', 1000)\n",
    "print(finalaccuracy1)\n",
    "\n",
    "\n"
   ]
  },
  {
   "cell_type": "markdown",
   "metadata": {},
   "source": [
    "## 5c.\n",
    "Based on your response to Questions 5a. and 5b., can you explain how membrane properties affect network activity for classification?"
   ]
  },
  {
   "cell_type": "markdown",
   "metadata": {},
   "source": [
    "## Answer 5c.\n",
    "Membrane properties VTH and Vdecay affect the membrane properties to a greater extent. When haveing VTH constant and changing the calue of Vdecay from 0 to 1 I get the maximum accuracy for vTH at 1 and vdecay at 0.5.\n",
    "This value may change with the value of VTH."
   ]
  }
 ],
 "metadata": {
  "kernelspec": {
   "display_name": "Python 3.8",
   "language": "python",
   "name": "python3"
  },
  "language_info": {
   "codemirror_mode": {
    "name": "ipython",
    "version": 3
   },
   "file_extension": ".py",
   "mimetype": "text/x-python",
   "name": "python",
   "nbconvert_exporter": "python",
   "pygments_lexer": "ipython3",
   "version": "3.8.10"
  }
 },
 "nbformat": 4,
 "nbformat_minor": 4
}
